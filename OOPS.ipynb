{
  "nbformat": 4,
  "nbformat_minor": 0,
  "metadata": {
    "colab": {
      "provenance": []
    },
    "kernelspec": {
      "name": "python3",
      "display_name": "Python 3"
    },
    "language_info": {
      "name": "python"
    }
  },
  "cells": [
    {
      "cell_type": "code",
      "execution_count": null,
      "metadata": {
        "id": "F8GyM9fAiIxI"
      },
      "outputs": [],
      "source": []
    },
    {
      "cell_type": "markdown",
      "source": [
        "#**ASSIGNMENT 4 - OOPS**\n",
        "##**THEORY QUESTIONS**\n",
        "\n",
        "\n"
      ],
      "metadata": {
        "id": "wTNve0nOtZ4O"
      }
    },
    {
      "cell_type": "markdown",
      "source": [
        "##Q1) What is Object-Oriented Programming (OOP)?\n",
        "##Ans:-Object oriented programming is a concept in which we use objects for programming. Objects can be defined as an instance of a class. An object is also called an instance and is used to carry out operations.A class is data structure and it also a blueprint of creating an object. OOP helps in making code more reusable and more effecient."
      ],
      "metadata": {
        "id": "Qkr0nksitaK1"
      }
    },
    {
      "cell_type": "code",
      "source": [
        "#eg:-\n",
        "class Me:#class\n",
        "  def Name(self):\n",
        "    print(\"My name is Aditya\")\n",
        "  pass\n",
        "obj = Me()#object\n",
        "obj.Name()"
      ],
      "metadata": {
        "colab": {
          "base_uri": "https://localhost:8080/"
        },
        "id": "RB8ktryAOhqP",
        "outputId": "49554b13-0382-4f69-c554-9838a494a16a"
      },
      "execution_count": null,
      "outputs": [
        {
          "output_type": "stream",
          "name": "stdout",
          "text": [
            "My name is Aditya\n"
          ]
        }
      ]
    },
    {
      "cell_type": "markdown",
      "source": [
        "##Q2) What is a class in OOP?\n",
        "##ANS:- A class is a data structure which consist of various methods/functions which helps store all related functions and methods in a single area without having to recode it everytime. It helps save time as all methods are stored in a single class. A class can be defined as a blueprint for creating an object.\n"
      ],
      "metadata": {
        "id": "KMuKto-qOxlg"
      }
    },
    {
      "cell_type": "code",
      "source": [
        "#eg\n",
        "class MyClass:\n",
        "  def students(self,students_name):\n",
        "    pass"
      ],
      "metadata": {
        "id": "IwVqjAV9PgnW"
      },
      "execution_count": null,
      "outputs": []
    },
    {
      "cell_type": "markdown",
      "source": [
        "##Q3) What is an object in OOP?\n",
        "##ANS:- An object is an instance of a class and is also called as instance. An object is used to carry out various operations using class name and is defined using the following syntax\n",
        "##obj_name=Class_name()"
      ],
      "metadata": {
        "id": "T-EsnC25PuU2"
      }
    },
    {
      "cell_type": "code",
      "source": [
        "#eg\n",
        "class MyClass:\n",
        "  def students(self,students_name):\n",
        "    pass\n",
        "obj=MyClass()"
      ],
      "metadata": {
        "id": "8YNmKa2VQKRZ"
      },
      "execution_count": null,
      "outputs": []
    },
    {
      "cell_type": "markdown",
      "source": [
        "##Q4) What is the difference between abstraction and encapsulation?\n",
        "##ANS:- Abstraction is the process by which we are only shown the important/nessecary information while the rest is hidden or not shown.It is kind of similar to seeing and interface on a website and the code is hidden. We can define an abstract method using a special decorator called as **@abstractmethod**. But we need to import a module called as **ABC**.\n",
        "##Encapsulation is the method in which we group multiple functions or method into a single functions. Encapsulation also encompose of access modifiers which are namely Public, Private and Protected."
      ],
      "metadata": {
        "id": "8M7ngOawQN57"
      }
    },
    {
      "cell_type": "code",
      "source": [
        "from abc import ABC, abstractmethod\n",
        "class Me(ABC):\n",
        "  @abstractmethod\n",
        "  def This(self):\n",
        "    print(\"This is my code\")\n",
        "#on creating object it will show an error as class is abstract"
      ],
      "metadata": {
        "id": "RfJJBzj1RjoL"
      },
      "execution_count": null,
      "outputs": []
    },
    {
      "cell_type": "markdown",
      "source": [
        "##Q5) What are dunder methods in Python?\n",
        "##ANS:-Dunder methods are also called as special or magical methods in python.These are reserved keywords which are used to create a custom object.These are defined by built in classes in python. It is used to implement operator overloading in python. These keywords are surronded by double underscore(__)."
      ],
      "metadata": {
        "id": "-_wcw4oWSQsz"
      }
    },
    {
      "cell_type": "code",
      "source": [
        "class Marks:\n",
        "  def __init__(self,Marks):#here __init__() is a dunder method\n",
        "    self.Marks=Marks\n",
        "    print(Marks)\n",
        "obj=Marks(90)"
      ],
      "metadata": {
        "colab": {
          "base_uri": "https://localhost:8080/"
        },
        "id": "vxS-6E9yTQfo",
        "outputId": "63031fac-1bec-4483-d15c-72fb47f85bc5"
      },
      "execution_count": null,
      "outputs": [
        {
          "output_type": "stream",
          "name": "stdout",
          "text": [
            "90\n"
          ]
        }
      ]
    },
    {
      "cell_type": "markdown",
      "source": [
        "##Q6) Explain the concept of inheritance in OOP.\n",
        "##ANS:- Inheritance can be understood by the concept of inheriting. When a child class inherits properties from a parent class such that the child can access their own and their parents class methods is termed as inheritance. The child class is always the most powerful class.Inheritance can be seen similar to the way a child exhibits his/hers parents properties in real life. Inheritance is of the following types:-\n",
        "*   Single level Inheritance\n",
        "*   Multi level Inheritance\n",
        "*   Multiple Inheritance\n",
        "*   Hiearhichal Inheritance\n",
        "*   Hybrid Inheritance\n",
        "\n",
        "\n"
      ],
      "metadata": {
        "id": "rvRBRcNtTt8h"
      }
    },
    {
      "cell_type": "code",
      "source": [
        "class Parent:\n",
        "  def Parent(self):\n",
        "    print(\"In parent class\")\n",
        "class Child(Parent):\n",
        "  def Child(self):\n",
        "    print(\"In child class\")\n",
        "obj=Child()\n",
        "obj.Parent()\n",
        "obj.Child()"
      ],
      "metadata": {
        "colab": {
          "base_uri": "https://localhost:8080/"
        },
        "id": "qVlJ8EAeVD-Y",
        "outputId": "a0bdfa9f-18e6-4796-82ff-a7fa93fd0452"
      },
      "execution_count": null,
      "outputs": [
        {
          "output_type": "stream",
          "name": "stdout",
          "text": [
            "In parent class\n",
            "In child class\n"
          ]
        }
      ]
    },
    {
      "cell_type": "markdown",
      "source": [
        "##Q7) What is polymorphism in OOP?\n",
        "##ANS:- **Polymorphism** is derived from 2 words. *Poly* which means 'many' and *morphism* which means 'forms'. It refers to the concept of an object/methods taking various forms depending upon the data.\n"
      ],
      "metadata": {
        "id": "s6waY4bxVc8l"
      }
    },
    {
      "cell_type": "code",
      "source": [
        "#here the method lec_info() as two forms in diffrent classes\n",
        "class Teacher:\n",
        "  def lec_info(self):\n",
        "    print(\"Teachers perspective\")\n",
        "class Student:\n",
        "  def lec_info(self):\n",
        "    print(\"Students perspective\")\n",
        "obj=Teacher()\n",
        "obj1=Student()\n",
        "obj.lec_info()\n",
        "obj1.lec_info()"
      ],
      "metadata": {
        "colab": {
          "base_uri": "https://localhost:8080/"
        },
        "id": "ynHv0PyFWn0k",
        "outputId": "3cecbdf9-fc53-4ccf-ff16-7ea9350a6414"
      },
      "execution_count": null,
      "outputs": [
        {
          "output_type": "stream",
          "name": "stdout",
          "text": [
            "Teachers perspective\n",
            "Students perspective\n"
          ]
        }
      ]
    },
    {
      "cell_type": "markdown",
      "source": [
        "##Q8) How is encapsulation achieved in Python?\n",
        "##ANS:-Encapsulation is the process of placing all the methods or function into a single block or class. It helps in making the finding procedure more effecient and easy for the coder. It allows the concept of how data/method is concealed in a single class/object and how it is represented to exterior classes. It also means hiding something. We can determine how exterior classes/objects can access encapsulated methods by using access modifiers."
      ],
      "metadata": {
        "id": "E7zXQRgdXC17"
      }
    },
    {
      "cell_type": "code",
      "source": [
        "class Me:\n",
        "  def Name(self,name):\n",
        "    print(name)\n",
        "  def __BankBalance(self,balance):#__BankBalance is private variable\n",
        "    print(balance)\n",
        "obj=Me()\n",
        "obj.Name(\"Aditya\")\n",
        "#we can not access __BankBalance with obj as it is a private method"
      ],
      "metadata": {
        "id": "i4kh5WdWWqAD",
        "colab": {
          "base_uri": "https://localhost:8080/"
        },
        "outputId": "75a4d0ab-8a26-466b-9753-d9193ed795db"
      },
      "execution_count": null,
      "outputs": [
        {
          "output_type": "stream",
          "name": "stdout",
          "text": [
            "Aditya\n"
          ]
        }
      ]
    },
    {
      "cell_type": "markdown",
      "source": [
        "##Q9) What is a constructor in Python?\n",
        "##ANS:- Constructor in python are specefied methods which are used to generate and initialise an object . Which means that methods are defined within class. It is by default running whenever an object is created and is of the following types:-\n",
        "\n",
        "*   Parameterized = Constructors which have some parameter or arguments given during object creation\n",
        "*   Non-Parameterized = These type of constructors take no arguments or parameters\n",
        "*   Default = These constructors are called automatically when an object of a class is created.\n",
        "\n",
        "\n"
      ],
      "metadata": {
        "id": "iXa0SnJOvcb4"
      }
    },
    {
      "cell_type": "code",
      "source": [
        "class Me:\n",
        "  def __init__(self,name,age,sex):\n",
        "    self.name=name\n",
        "    self.age=age\n",
        "    self.sex=sex\n",
        "  def Display(self):\n",
        "    print(self.name,self.age,self.sex)\n",
        "a=Me(\"Aditya\",20,\"Male\")#parameterized constructor\n",
        "a.Display()"
      ],
      "metadata": {
        "colab": {
          "base_uri": "https://localhost:8080/"
        },
        "id": "jis4GMt8w2N_",
        "outputId": "217149f1-c5a7-478e-92c0-049a3869af6d"
      },
      "execution_count": null,
      "outputs": [
        {
          "output_type": "stream",
          "name": "stdout",
          "text": [
            "Aditya 20 Male\n"
          ]
        }
      ]
    },
    {
      "cell_type": "markdown",
      "source": [
        "##Q10) What are class and static methods in Python?\n",
        "##ANS:- Class methods are methods that are bound to the class and not the instance of the class. They can access or modify class state that applies across all instances of the class. Class methods are defined using the **@classmethod decorator.**\n"
      ],
      "metadata": {
        "id": "RRItIrGHx_Xu"
      }
    },
    {
      "cell_type": "code",
      "source": [
        "class Student:\n",
        "  total=0\n",
        "  def total_stud(self,name):\n",
        "    self.name=name\n",
        "    Student.total+=1\n",
        "  @classmethod\n",
        "  def display(cls):\n",
        "    print(cls.total)\n",
        "obj=Student()\n",
        "obj.total_stud(\"Aditya\")\n",
        "obj1=Student()\n",
        "obj1.total_stud(\"Aditya\")\n",
        "Student.display()"
      ],
      "metadata": {
        "colab": {
          "base_uri": "https://localhost:8080/"
        },
        "id": "RUwI2nb0yqKd",
        "outputId": "12781c9e-23cc-4986-ca68-dcfcb1a2e7aa"
      },
      "execution_count": null,
      "outputs": [
        {
          "output_type": "stream",
          "name": "stdout",
          "text": [
            "2\n"
          ]
        }
      ]
    },
    {
      "cell_type": "markdown",
      "source": [
        "##Static methods are methods that belong to the class and don't access or modify class or instance state. They are defined using the **@staticmethod decorator.**\n"
      ],
      "metadata": {
        "id": "0Qlo7iLuzHt9"
      }
    },
    {
      "cell_type": "code",
      "source": [
        "class Calculator:\n",
        "  @staticmethod\n",
        "  def add(x,y):\n",
        "    return x+y\n",
        "  @staticmethod\n",
        "  def subs(x,y):\n",
        "    return x-y\n",
        "Calculator.add(16,67)"
      ],
      "metadata": {
        "colab": {
          "base_uri": "https://localhost:8080/"
        },
        "id": "Di5hFAQnyrdT",
        "outputId": "e9775a1e-76e2-4cc0-afac-5e1768cf0289"
      },
      "execution_count": null,
      "outputs": [
        {
          "output_type": "execute_result",
          "data": {
            "text/plain": [
              "83"
            ]
          },
          "metadata": {},
          "execution_count": 16
        }
      ]
    },
    {
      "cell_type": "markdown",
      "source": [
        "##Q11) What is method overloading in Python?\n",
        "##ANS:- Method overloading is the process of calling a method in python more than once each time with diffrent parameters. Although , method overloading is not supported in python . It will just take the recent defination of method , and if previous method with same name is called, a TypeRaise error will arise.\n"
      ],
      "metadata": {
        "id": "mIx8d3-d0Lh8"
      }
    },
    {
      "cell_type": "code",
      "source": [
        "def mul(a,b):\n",
        "  z=a*b\n",
        "  return z\n",
        "def mul(a,b,c):\n",
        "  z=a*b*c\n",
        "  return z\n",
        "mul(2,3,4)\n",
        "#mul(2,3)"
      ],
      "metadata": {
        "colab": {
          "base_uri": "https://localhost:8080/"
        },
        "id": "2VypsEg81CYr",
        "outputId": "39fb95b2-95c2-4f2b-f5b1-0b50cd75ea3e"
      },
      "execution_count": null,
      "outputs": [
        {
          "output_type": "execute_result",
          "data": {
            "text/plain": [
              "24"
            ]
          },
          "metadata": {},
          "execution_count": 24
        }
      ]
    },
    {
      "cell_type": "markdown",
      "source": [
        "##Q12) What is method overriding in OOP?\n",
        "##ANS:- Method overriding is the process of reimplementing a method in diffrent way within a subclass which is already defined in super class. It helps in implementing method with same name and parameter within a subclass and overrides the method behaviour in super class."
      ],
      "metadata": {
        "id": "p2MzZUu71_8q"
      }
    },
    {
      "cell_type": "code",
      "source": [
        "class Animal:\n",
        "  def sound(self):\n",
        "    print(\"Animal sound\")\n",
        "class Dog(Animal):\n",
        "  def sound(self):#method overriding\n",
        "    print(\"Dog barks\")\n",
        "animal=Animal()\n",
        "animal.sound()\n",
        "dog=Dog()\n",
        "dog.sound()"
      ],
      "metadata": {
        "colab": {
          "base_uri": "https://localhost:8080/"
        },
        "id": "3ZjFTkNl1GV_",
        "outputId": "c0e55f20-d8da-4c0c-f00d-7dfa3daa0a99"
      },
      "execution_count": null,
      "outputs": [
        {
          "output_type": "stream",
          "name": "stdout",
          "text": [
            "Animal sound\n",
            "Dog barks\n"
          ]
        }
      ]
    },
    {
      "cell_type": "markdown",
      "source": [
        "##Q13) What is a property decorator in Python?\n",
        "##ANS:- Property decorators help use class method as an attribute."
      ],
      "metadata": {
        "id": "4UUhbpyY3AUh"
      }
    },
    {
      "cell_type": "code",
      "source": [
        "class Jewelry:\n",
        "  def __init__(self,price):\n",
        "    self.__price=price\n",
        "  @property\n",
        "  def access_price(self):\n",
        "    return self.__price\n",
        "  @access_price.setter\n",
        "  def set_price(self,price):\n",
        "    self.__price=price\n",
        "obj=Jewelry(1000)\n",
        "print(obj.access_price)\n",
        "obj.set_price=2000\n",
        "print(obj.access_price)"
      ],
      "metadata": {
        "colab": {
          "base_uri": "https://localhost:8080/"
        },
        "id": "EphJ5MGF3m5B",
        "outputId": "8b2492df-d06c-4ed7-8c75-72e08fb3e2e4"
      },
      "execution_count": null,
      "outputs": [
        {
          "output_type": "stream",
          "name": "stdout",
          "text": [
            "1000\n",
            "2000\n"
          ]
        }
      ]
    },
    {
      "cell_type": "markdown",
      "source": [
        "##Q14) Why is polymorphism important in OOP?\n",
        "\n",
        "*   It provides code reusability as it allows using a single method/objects into diffrent forms\n",
        "*   It helps to implement method overriding and method overloading\n",
        "*   It helps make code more extendible and more flexible.\n",
        "\n",
        "\n",
        "\n",
        "\n"
      ],
      "metadata": {
        "id": "oTXKTnng4nP4"
      }
    },
    {
      "cell_type": "markdown",
      "source": [
        "##Q15) What is an abstract class in Python?\n",
        "##ANS:- Abstract classes cannot be instantiated and must be subclassed. They may contain abstract methods that are declared but not implemented in the abstract class itself. Subclasses are in charge of implementing these abstract methods. It helps in implementing abstraction.\n"
      ],
      "metadata": {
        "id": "63iLWGOc5bkw"
      }
    },
    {
      "cell_type": "code",
      "source": [
        "import abc\n",
        "\n",
        "class Shape:\n",
        "\n",
        "    @abc.abstractmethod\n",
        "    def calculate_area(self):\n",
        "        pass\n",
        "class Rectangle(Shape):\n",
        "    def calculate_area(self):\n",
        "        return \"Area of rectange is len*breadth\"\n",
        "class Circle(Shape):\n",
        "    def calculate_area(self):\n",
        "        return \"area of circle is pi r **2\"\n",
        "rec=Circle()\n",
        "print(rec.calculate_area())\n"
      ],
      "metadata": {
        "colab": {
          "base_uri": "https://localhost:8080/"
        },
        "id": "0-1cXPNb6H23",
        "outputId": "be909c2f-053b-43e1-ac51-91d1b48d5fd1"
      },
      "execution_count": null,
      "outputs": [
        {
          "output_type": "stream",
          "name": "stdout",
          "text": [
            "area of circle is pi r **2\n"
          ]
        }
      ]
    },
    {
      "cell_type": "markdown",
      "source": [
        "##Q16) What are the advantages of OOP?\n",
        "##ANS:-\n",
        "\n",
        "*   Helps increase modularity as class and objects are orgainized\n",
        "*   Helps implement code reusability\n",
        "*   Helps improve file management as data is organized\n",
        "*   Flexibility is improved\n",
        "*   Helps use the concept of objects in programming\n",
        "\n"
      ],
      "metadata": {
        "id": "rTLCENz76wYm"
      }
    },
    {
      "cell_type": "markdown",
      "source": [
        "##Q17) What is the difference between a class variable and an instance variable?\n",
        "##ANS:-\n",
        "##**CLASS VARIABLE**\n",
        "\n",
        "*   A class variable is defined within a class and can is shared among all instances in class\n",
        "*   Defined within class and outside any methods\n",
        "*   Only is specified for class and is stored once in memory\n",
        "*   Any change in class variable will also affect the instances of class\n",
        "\n",
        "##**INSTANCE VARIABLE**\n",
        "\n",
        "*  An instance variable is defined within a method and is associated with only specefied class\n",
        "*  Defined within a method using the  __init__() method\n",
        "*  Changes will only affect the specefied object as rest are independent.\n",
        "*  Stored in diffrent memory locations depending upon object\n",
        "\n",
        "\n",
        "\n"
      ],
      "metadata": {
        "id": "bVzoQLI4hSB2"
      }
    },
    {
      "cell_type": "code",
      "source": [
        "class Student:\n",
        "  total_student=0 #class variable\n",
        "  def __init__(self,name,age):\n",
        "    self.name=name #instance variable\n",
        "    self.age=age\n",
        "    Student.total_student+=1\n",
        "  def display(self):\n",
        "    print(self.name,self.age,Student.total_student)"
      ],
      "metadata": {
        "id": "GrOiwNTWjL6e"
      },
      "execution_count": null,
      "outputs": []
    },
    {
      "cell_type": "markdown",
      "source": [
        "##Q18) What is multiple inheritance in Python?\n",
        "##ANS:- Multiple inheritance is a concept of inheritance where the child class inherits properties from more than one parent class."
      ],
      "metadata": {
        "id": "aaxQfNtljYj8"
      }
    },
    {
      "cell_type": "code",
      "source": [
        "class Parent1: #parentclass1\n",
        "  def Method_1(self):\n",
        "    print(\"In parent 1\")\n",
        "class Parent2:\n",
        "  def Method_2(self): #parentclass2\n",
        "    print(\"In parent 2\")\n",
        "class Child(Parent1,Parent2): #childclass inheriting properties from parent class 1 and 2\n",
        "  def Method_3(self):\n",
        "    print(\"In child\")\n",
        "\n",
        "obj=Child()\n",
        "obj.Method_3()"
      ],
      "metadata": {
        "colab": {
          "base_uri": "https://localhost:8080/"
        },
        "id": "rriHQErIj7sF",
        "outputId": "28ecac54-a259-45ca-9598-92357ba4a015"
      },
      "execution_count": null,
      "outputs": [
        {
          "output_type": "stream",
          "name": "stdout",
          "text": [
            "In child\n"
          ]
        }
      ]
    },
    {
      "cell_type": "markdown",
      "source": [
        "##Q19) Explain the purpose of ‘__str__’ and ‘__repr__’  methods in Python.\n",
        "##ANS:- Both '__str()__' and '__repr()__' are dunder or special methods . Both are used on instances of class. '__str()__' is used to return string representation of the object and '__repr()__' is used to return an unambiguos spring representation which can be used to recreate an object.\n"
      ],
      "metadata": {
        "id": "O9fmAeD2kaEE"
      }
    },
    {
      "cell_type": "code",
      "source": [
        "class Student:\n",
        "  def __init__(self,name,age):\n",
        "    self.name=name\n",
        "    self.age=age\n",
        "  def __str__(self):\n",
        "    return f\"{self.name} {self.age}\"\n",
        "  def __repr__(self):\n",
        "    return f\"{self.name}{self.age}\"\n",
        "obj=Student(\"Aditya\",20)\n",
        "print(obj)\n",
        "print(repr(obj))\n",
        "print(str(obj))"
      ],
      "metadata": {
        "colab": {
          "base_uri": "https://localhost:8080/"
        },
        "id": "nOqK34K4lczc",
        "outputId": "28cc8ea6-8716-47f3-cca0-f049a80eca30"
      },
      "execution_count": null,
      "outputs": [
        {
          "output_type": "stream",
          "name": "stdout",
          "text": [
            "Aditya 20\n",
            "Aditya20\n",
            "Aditya 20\n"
          ]
        }
      ]
    },
    {
      "cell_type": "markdown",
      "source": [
        "##Q20) What is the significance of the ‘super()’ function in Python?\n",
        "##ANS:- Super() is used to call parents class method within child class. It depends on concept of inheritance\n"
      ],
      "metadata": {
        "id": "vE7vismLlxOz"
      }
    },
    {
      "cell_type": "code",
      "source": [
        "class Parent:\n",
        "    def __init__(self, name):\n",
        "        self.name = name\n",
        "    def show(self):\n",
        "        print(f\"Parent name: {self.name}\")\n",
        "class Child(Parent):\n",
        "    def __init__(self, name, age):\n",
        "        super().__init__(name)  # Calls Parent's constructor\n",
        "        self.age = age\n",
        "    def show(self):\n",
        "        super().show()  # Calls Parent's show method\n",
        "        print(f\"Child age: {self.age}\")\n",
        "c = Child(\"John\", 21)\n",
        "c.show()\n"
      ],
      "metadata": {
        "colab": {
          "base_uri": "https://localhost:8080/"
        },
        "id": "6xS-pHjDmUNL",
        "outputId": "7dbe0391-a374-4bce-b091-790f5707bc3a"
      },
      "execution_count": null,
      "outputs": [
        {
          "output_type": "stream",
          "name": "stdout",
          "text": [
            "Parent name: John\n",
            "Child age: 21\n"
          ]
        }
      ]
    },
    {
      "cell_type": "markdown",
      "source": [
        "##Q21) What is the significance of the __del__ method in Python?\n",
        "##ANS:- __del()__ is also called as destructor which is used to delete object/instances or a class. Its basic need is to destroy unwanted items."
      ],
      "metadata": {
        "id": "UzWTDTLgmhUi"
      }
    },
    {
      "cell_type": "code",
      "source": [
        "class Me:\n",
        "  def me(self,name):\n",
        "    self.name=name\n",
        "  def __del__(self):\n",
        "        print(f\"Object {self.name} destroyed\")\n",
        "obj=Me()\n",
        "Me.me(obj,\"Aditya\")"
      ],
      "metadata": {
        "id": "Lf9HinJvnAUy"
      },
      "execution_count": null,
      "outputs": []
    },
    {
      "cell_type": "markdown",
      "source": [
        "##Q22) What is the difference between @staticmethod and @classmethod in Python?\n",
        "##ANS:-\n",
        "##**@classmethod**:-\n",
        "\n",
        "\n",
        "*   Class methods are methods that are bound to the class\n",
        "*   They are not bound to any instances of class\n",
        "*   Are defined using @classmethod and have 'cls'\n",
        "*   They can access or modify class state that applies across all instances of the class.\n",
        "\n",
        "##**@staticmethod**:-\n",
        "*   Static methods are methods that belong to a class\n",
        "*   Are defined using @staticmethod\n",
        "*   They can not  access or modify class state that applies across all instances of the class.\n",
        "\n",
        "\n",
        "\n",
        "\n"
      ],
      "metadata": {
        "id": "xeSVVXUqne7J"
      }
    },
    {
      "cell_type": "markdown",
      "source": [
        "##Q23) How does polymorphism work in Python with inheritance?\n",
        "##ANS:- It helps by the the concept of method overriding. It is a process of re implementing a method in the subclass that is already defined in the super class. They have the same name as well as same amount of parameters."
      ],
      "metadata": {
        "id": "tyNlzTj_FRe8"
      }
    },
    {
      "cell_type": "code",
      "source": [
        "class Animal:\n",
        "  def sound(self):# here the method sound is having diffrents forms in diffrent classes and yet have the same name,hence polymorphism concept is present\n",
        "    print(\"Animal Sound\")\n",
        "class Dog(Animal):#this subclass is inheriting properties from parent class,hence inheritence concept is introduced.\n",
        "  def sound(self):\n",
        "    print(\"Dog Sound\")\n",
        "class Cat(Animal):\n",
        "  def sound(self):\n",
        "    print(\"Cat Sound\")\n",
        "animal=Animal()\n",
        "animal.sound()\n",
        "dog=Dog()\n",
        "dog.sound()\n",
        "cat=Cat()\n",
        "cat.sound()"
      ],
      "metadata": {
        "colab": {
          "base_uri": "https://localhost:8080/"
        },
        "id": "LKMdFhYfGFX8",
        "outputId": "5d815670-9818-4daf-8037-9c9a7733cc60"
      },
      "execution_count": null,
      "outputs": [
        {
          "output_type": "stream",
          "name": "stdout",
          "text": [
            "Animal Sound\n",
            "Dog Sound\n",
            "Cat Sound\n"
          ]
        }
      ]
    },
    {
      "cell_type": "markdown",
      "source": [
        "##Q24) What is method chaining in Python OOP?\n",
        "##ANS:- Method chaining allows calling multiple methods on the same object in a single statement, improving code readability and fluency. It works by returning self from each method so that the next method can be called on the same object."
      ],
      "metadata": {
        "id": "9ztwqArRGsJM"
      }
    },
    {
      "cell_type": "code",
      "source": [
        "class Calculator:\n",
        "  value=0\n",
        "  def __init__(self,value):\n",
        "    self.value=value\n",
        "  def add(self,value):\n",
        "    self.value+=value\n",
        "    return self\n",
        "  def subs(self,value):\n",
        "    self.value-=value\n",
        "    return self\n",
        "  def mul(self,value):\n",
        "    self.value*=value\n",
        "    return self\n",
        "  def div(self,value):\n",
        "    self.value/=value\n",
        "    return self\n",
        "  def display(self):\n",
        "    print(self.value)\n",
        "obj=Calculator(10)\n",
        "obj.add(5).subs(2).mul(2).div(2).display() #method chaining"
      ],
      "metadata": {
        "colab": {
          "base_uri": "https://localhost:8080/"
        },
        "id": "ZCMfKl1XHRrE",
        "outputId": "0e3e824b-68ce-4ed0-b293-97d89a04f642"
      },
      "execution_count": null,
      "outputs": [
        {
          "output_type": "stream",
          "name": "stdout",
          "text": [
            "13.0\n"
          ]
        }
      ]
    },
    {
      "cell_type": "markdown",
      "source": [
        "##Q25)  What is the purpose of the __call__ method in Python?\n",
        "##ANS:- The __call__ method allows an instance of a class to be called like a function. This makes objects behave like callable functions while still maintaining object-oriented features."
      ],
      "metadata": {
        "id": "n7ex7IGrHzxG"
      }
    },
    {
      "cell_type": "code",
      "source": [
        "class Multiplier:\n",
        "    def __init__(self, factor):\n",
        "        self.factor = factor\n",
        "\n",
        "    def __call__(self, number):\n",
        "        return number * self.factor\n",
        "# Creating an instance\n",
        "double = Multiplier(2)\n",
        "triple = Multiplier(3)\n",
        "# Using instances like functions\n",
        "print(double(5))  # Output: 10\n",
        "print(triple(5))  # Output: 15\n"
      ],
      "metadata": {
        "colab": {
          "base_uri": "https://localhost:8080/"
        },
        "id": "v0v82mDuHoLf",
        "outputId": "0c7dc579-83cf-4b9f-f1d2-0c35ad277863"
      },
      "execution_count": null,
      "outputs": [
        {
          "output_type": "stream",
          "name": "stdout",
          "text": [
            "10\n",
            "15\n"
          ]
        }
      ]
    },
    {
      "cell_type": "markdown",
      "source": [
        "#**PRACTICAL QUESTIONS**"
      ],
      "metadata": {
        "id": "WqKDH2CsIdMU"
      }
    },
    {
      "cell_type": "code",
      "source": [
        "#Q1)  Create a parent class Animal with a method speak() that prints a generic message. Create a child class Dog that overrides the speak() method to print \"Bark!\".\n",
        "class Animal:\n",
        "  def speak(self):\n",
        "    print(\"Animal sound\")\n",
        "class Dog(Animal):\n",
        "  def speak(self):\n",
        "    print(\"Bark!\")\n",
        "obj=Dog()\n",
        "obj.speak()"
      ],
      "metadata": {
        "colab": {
          "base_uri": "https://localhost:8080/"
        },
        "id": "KPPcI5eUJWmi",
        "outputId": "9c80a9d7-b647-4c73-df9f-8d8b1eef043f"
      },
      "execution_count": null,
      "outputs": [
        {
          "output_type": "stream",
          "name": "stdout",
          "text": [
            "Bark!\n"
          ]
        }
      ]
    },
    {
      "cell_type": "code",
      "source": [
        "#Q2)2. Write a program to create an abstract class Shape with a method area(). Derive classes Circle and Rectangle from it and implement the area() method in both.\n",
        "import abc\n",
        "class Shape:\n",
        "  @abc.abstractmethod\n",
        "  def area(self):\n",
        "    pass\n",
        "class Circle(Shape):\n",
        "  def area(self,radius):\n",
        "    self.radius=radius\n",
        "    print(3.14*self.radius**2)\n",
        "class Rectangle(Shape):\n",
        "  def area(self,length,breadth):\n",
        "    self.length=length\n",
        "    self.breadth=breadth\n",
        "    print(length*breadth)\n",
        "obj=Circle()\n",
        "obj.area(2)\n",
        "obj1=Rectangle()\n",
        "obj1.area(2,3)"
      ],
      "metadata": {
        "id": "W9-6Ktl7Jqf2",
        "colab": {
          "base_uri": "https://localhost:8080/"
        },
        "outputId": "5304d33e-dfbc-4db2-b0b3-7da97719ad91"
      },
      "execution_count": null,
      "outputs": [
        {
          "output_type": "stream",
          "name": "stdout",
          "text": [
            "12.56\n",
            "6\n"
          ]
        }
      ]
    },
    {
      "cell_type": "code",
      "source": [
        "#Q3)  Implement a multi-level inheritance scenario where a class Vehicle has an attribute type. Derive a class Car and further derive a class ElectricCar that adds a battery attribute.\n",
        "class Vehicle:\n",
        "  def Car(self,type):\n",
        "    self.type=type\n",
        "    print(self.type)\n",
        "class Car(Vehicle):\n",
        "  def Engine(self,engine):\n",
        "    self.engine=engine\n",
        "    print(self.engine)\n",
        "class ElectricCar(Car):\n",
        "  def Battery(self,battery):\n",
        "    self.battery=battery\n",
        "    print(self.battery)\n",
        "obj=ElectricCar()\n",
        "obj.Car(\"Car\")\n",
        "obj.Engine(\"Electric\")\n",
        "obj.Battery(\"10000W\")\n"
      ],
      "metadata": {
        "colab": {
          "base_uri": "https://localhost:8080/"
        },
        "id": "WadlSsV_Clku",
        "outputId": "67175285-25df-44cf-ff2e-7c7a31ba75db"
      },
      "execution_count": null,
      "outputs": [
        {
          "output_type": "stream",
          "name": "stdout",
          "text": [
            "Car\n",
            "Electric\n",
            "10000W\n"
          ]
        }
      ]
    },
    {
      "cell_type": "code",
      "source": [
        "#Q4)  Implement a multi-level inheritance scenario where a class Vehicle has an attribute type. Derive a class Car and further derive a class ElectricCar that adds a battery attribute.\n",
        "class Vehicle:\n",
        "  def Car(self,type):\n",
        "    self.type=type\n",
        "    print(self.type)\n",
        "class Car(Vehicle):\n",
        "  def Engine(self,engine):\n",
        "    self.engine=engine\n",
        "    print(self.engine)\n",
        "class ElectricCar(Car):\n",
        "  def Battery(self,battery):\n",
        "    self.battery=battery\n",
        "    print(self.battery)\n",
        "obj=ElectricCar()\n",
        "obj.Car(\"Car\")\n",
        "obj.Engine(\"Electric\")\n",
        "obj.Battery(\"10000W\")\n"
      ],
      "metadata": {
        "colab": {
          "base_uri": "https://localhost:8080/"
        },
        "id": "C89ZvCroDkgm",
        "outputId": "554beb95-6fa3-4664-889b-94d6501f34fd"
      },
      "execution_count": null,
      "outputs": [
        {
          "output_type": "stream",
          "name": "stdout",
          "text": [
            "Car\n",
            "Electric\n",
            "10000W\n"
          ]
        }
      ]
    },
    {
      "cell_type": "code",
      "source": [
        "#Q5)  Write a program to demonstrate encapsulation by creating a class BankAccount with private attributes balance and methods to deposit, withdraw, and check balance.\n",
        "class BankAccount:\n",
        "  def __init__(self,balance):\n",
        "    self.__balance=balance\n",
        "  def Deposit(self,amount):\n",
        "    self.__balance+=amount\n",
        "    print(self.__balance)\n",
        "  def Withdraw(self,amount):\n",
        "    self.__balance-=amount\n",
        "    print(self.__balance)\n",
        "  def CheckBalance(self):\n",
        "    return self.__balance\n",
        "obj=BankAccount(1000)\n",
        "obj.Deposit(1000)\n",
        "obj.Withdraw(500)\n",
        "obj.CheckBalance()"
      ],
      "metadata": {
        "colab": {
          "base_uri": "https://localhost:8080/"
        },
        "id": "gnsxOLi_DvsF",
        "outputId": "083a3d04-07a3-4c9f-debb-5f89ca0673bb"
      },
      "execution_count": null,
      "outputs": [
        {
          "output_type": "stream",
          "name": "stdout",
          "text": [
            "2000\n",
            "1500\n"
          ]
        },
        {
          "output_type": "execute_result",
          "data": {
            "text/plain": [
              "1500"
            ]
          },
          "metadata": {},
          "execution_count": 15
        }
      ]
    },
    {
      "cell_type": "code",
      "source": [
        "#Q6)  Demonstrate runtime polymorphism using a method play() in a base class Instrument. Derive classes Guitar and Piano that implement their own version of play().\n",
        "class Instruments:\n",
        "  def play(self):\n",
        "    print(\"I have an instrument\")# here method play() has more than one form in diffrent classes.\n",
        "class Guitar(Instruments):\n",
        "  def play(self):\n",
        "    print(\"I play guitar\")\n",
        "class Piano(Instruments):\n",
        "  def play(self):\n",
        "    print(\"I play piano\")\n",
        "obj=Guitar()\n",
        "obj.play()\n",
        "obj1=Piano()\n",
        "obj1.play()"
      ],
      "metadata": {
        "colab": {
          "base_uri": "https://localhost:8080/"
        },
        "id": "7oJ8kJp7EE5f",
        "outputId": "48279edf-6a7e-4d95-99d8-8e2602c6e37d"
      },
      "execution_count": null,
      "outputs": [
        {
          "output_type": "stream",
          "name": "stdout",
          "text": [
            "I play guitar\n",
            "I play piano\n"
          ]
        }
      ]
    },
    {
      "cell_type": "code",
      "source": [
        "#Q7)  Create a class MathOperations with a class method add_numbers() to add two numbers and a static method subtract_numbers() to subtract two numbers.\n",
        "class MathOperations:\n",
        "  @classmethod\n",
        "  def add_numbers(cls,a,b):\n",
        "    return a+b\n",
        "  @staticmethod\n",
        "  def subtract_numbers(a,b):\n",
        "    return a-b\n",
        "MathOperations.add_numbers(10,20)\n",
        "MathOperations.subtract_numbers(20,10)"
      ],
      "metadata": {
        "colab": {
          "base_uri": "https://localhost:8080/"
        },
        "id": "vERkkgugFf_E",
        "outputId": "eb754699-c9f4-4a39-fea9-1de7166231be"
      },
      "execution_count": null,
      "outputs": [
        {
          "output_type": "execute_result",
          "data": {
            "text/plain": [
              "10"
            ]
          },
          "metadata": {},
          "execution_count": 22
        }
      ]
    },
    {
      "cell_type": "code",
      "source": [
        "#Q8) Implement a class Person with a class method to count the total number of persons created.\n",
        "class Person:\n",
        "  total=0\n",
        "  def __init__(self,name):\n",
        "    self.name=name\n",
        "    Person.total+=1\n",
        "  def Total(self):\n",
        "    print(Person.total)\n",
        "obj=Person(\"Aditya\")\n",
        "obj.Total()"
      ],
      "metadata": {
        "colab": {
          "base_uri": "https://localhost:8080/"
        },
        "id": "mXr_BYiKGeoz",
        "outputId": "2790d3ae-0c99-44e2-aece-f50e22c6ec14"
      },
      "execution_count": null,
      "outputs": [
        {
          "output_type": "stream",
          "name": "stdout",
          "text": [
            "1\n"
          ]
        }
      ]
    },
    {
      "cell_type": "code",
      "source": [
        "#Q9) Write a class Fraction with attributes numerator and denominator. Override the str method to display the fraction as \"numerator/denominator\".\n",
        "class Fraction:\n",
        "  def __init__(self,numerator,denomenator):\n",
        "    self.numerator=numerator\n",
        "    self.denomenator=denomenator\n",
        "  def __str__(self):\n",
        "    return f\"{self.numerator}/{self.denomenator}\"\n",
        "obj=Fraction(10,20)\n",
        "print(obj)# we use print statement to get string representation\n"
      ],
      "metadata": {
        "colab": {
          "base_uri": "https://localhost:8080/"
        },
        "id": "6wfUCMxpHQC1",
        "outputId": "55e4cd9b-ea87-4bc4-b35d-a80b9312e7a6"
      },
      "execution_count": null,
      "outputs": [
        {
          "output_type": "stream",
          "name": "stdout",
          "text": [
            "10/20\n"
          ]
        }
      ]
    },
    {
      "cell_type": "code",
      "source": [
        "#Q10) Demonstrate operator overloading by creating a class Vector and overriding the add method to add two vectors.\n",
        "class Vector:\n",
        "    def __init__(self, x, y):\n",
        "        self.x = x\n",
        "        self.y = y\n",
        "    def __add__(self, other):\n",
        "        if isinstance(other, Vector):\n",
        "            return Vector(self.x + other.x, self.y + other.y)\n",
        "        raise TypeError(\"Operand must be an instance of Vector\")\n",
        "    def __str__(self):\n",
        "        return f\"Vector({self.x}, {self.y})\"\n",
        "v1 = Vector(2, 3)\n",
        "v2 = Vector(4, 5)\n",
        "v3 = v1 + v2\n",
        "print(v3)\n"
      ],
      "metadata": {
        "colab": {
          "base_uri": "https://localhost:8080/"
        },
        "id": "rFlbsMUnIV5a",
        "outputId": "858f5f17-b2c3-43bc-ea60-60ac9ac47b96"
      },
      "execution_count": null,
      "outputs": [
        {
          "output_type": "stream",
          "name": "stdout",
          "text": [
            "Vector(6, 8)\n"
          ]
        }
      ]
    },
    {
      "cell_type": "code",
      "source": [
        "#Q11) Create a class Person with attributes name and age. Add a method greet() that prints \"Hello, my name is {name} and I am {age} years old.\"\n",
        "class Person:\n",
        "  def __init__(self,name,age):\n",
        "    self.name=name\n",
        "    self.age=age\n",
        "  def greet(self):\n",
        "    return f\"Hello, my name is {self.name} and I am {self.age} years old\"\n",
        "obj=Person(\"Omer\",21)\n",
        "obj.greet()"
      ],
      "metadata": {
        "colab": {
          "base_uri": "https://localhost:8080/",
          "height": 36
        },
        "id": "jzs1MQy0JA9B",
        "outputId": "00788dfd-1650-48f2-abc5-089cc2fa5021"
      },
      "execution_count": null,
      "outputs": [
        {
          "output_type": "execute_result",
          "data": {
            "text/plain": [
              "'Hello, my name is Omer and I am 21 years old'"
            ],
            "application/vnd.google.colaboratory.intrinsic+json": {
              "type": "string"
            }
          },
          "metadata": {},
          "execution_count": 31
        }
      ]
    },
    {
      "cell_type": "code",
      "source": [
        "#Q12)  Implement a class Student with attributes name and grades. Create a method average_grade() to compute the average of the grades.\n",
        "class Student:\n",
        "  def __init__(self,name,grades):\n",
        "    self.name=name\n",
        "    self.grades=grades\n",
        "  def average_grade(self):\n",
        "    return sum(self.grades)/len(self.grades)\n",
        "obj=Student(\"Omer\",[50,60,89,90,95])\n",
        "obj.average_grade()"
      ],
      "metadata": {
        "colab": {
          "base_uri": "https://localhost:8080/"
        },
        "id": "IBmUx2vNJxX-",
        "outputId": "00629e3d-47b1-4304-a8ec-735711b0ea9c"
      },
      "execution_count": null,
      "outputs": [
        {
          "output_type": "execute_result",
          "data": {
            "text/plain": [
              "76.8"
            ]
          },
          "metadata": {},
          "execution_count": 32
        }
      ]
    },
    {
      "cell_type": "code",
      "source": [
        "#Q13)  Create a class Rectangle with methods set_dimensions() to set the dimensions and area() to calculate the area.\n",
        "class Rectangle:\n",
        "    def set_dimensions(self, length, width):\n",
        "        self.length = length\n",
        "        self.width = width\n",
        "    def area(self):\n",
        "        return self.length * self.width\n",
        "    def __str__(self):\n",
        "        return f\"Rectangle(Length: {self.length}, Width: {self.width}, Area: {self.area()})\"\n",
        "rect = Rectangle()\n",
        "rect.set_dimensions(5, 10)\n",
        "print(rect)\n"
      ],
      "metadata": {
        "colab": {
          "base_uri": "https://localhost:8080/"
        },
        "id": "ma7caidGKsrY",
        "outputId": "7a45b751-28a3-4b49-e7e9-2703dff65538"
      },
      "execution_count": null,
      "outputs": [
        {
          "output_type": "stream",
          "name": "stdout",
          "text": [
            "Rectangle(Length: 5, Width: 10, Area: 50)\n"
          ]
        }
      ]
    },
    {
      "cell_type": "code",
      "source": [
        "#Q14) Create a class Employee with a method calculate_salary() that computes the salary based on hours worked and hourly rate. Create a derived class Manager that adds a bonus to the salary.\n",
        "class Employee:\n",
        "    def __init__(self, name, hours_worked, hourly_rate):\n",
        "        self.name = name\n",
        "        self.hours_worked = hours_worked\n",
        "        self.hourly_rate = hourly_rate\n",
        "\n",
        "    def calculate_salary(self):\n",
        "        return self.hours_worked * self.hourly_rate\n",
        "\n",
        "class Manager(Employee):\n",
        "    def __init__(self, name, hours_worked, hourly_rate, bonus):\n",
        "        super().__init__(name, hours_worked, hourly_rate)\n",
        "        self.bonus = bonus\n",
        "\n",
        "    def calculate_salary(self):\n",
        "        base_salary = super().calculate_salary()\n",
        "        return base_salary + self.bonus\n",
        "\n",
        "# Example usage:\n",
        "employee = Employee(\"John Doe\", 160, 20)  # 160 hours worked at $20/hour\n",
        "manager = Manager(\"Jane Smith\", 160, 30, 500)  # 160 hours worked at $30/hour with a $500 bonus\n",
        "\n",
        "print(f\"Employee Salary: ${employee.calculate_salary()}\")\n",
        "print(f\"Manager Salary: ${manager.calculate_salary()}\")\n"
      ],
      "metadata": {
        "id": "PNnJAUmfLn7C",
        "colab": {
          "base_uri": "https://localhost:8080/"
        },
        "outputId": "5d9f2b3f-4b52-4374-e6ba-a5db09315f18"
      },
      "execution_count": 49,
      "outputs": [
        {
          "output_type": "stream",
          "name": "stdout",
          "text": [
            "Employee Salary: $3200\n",
            "Manager Salary: $5300\n"
          ]
        }
      ]
    },
    {
      "cell_type": "code",
      "source": [
        "#Q15) Create a class Product with attributes name, price, and quantity. Implement a method total_price() that calculates the total price of the product.\n",
        "class Product:\n",
        "  def __init__(self,name,price,quantity):\n",
        "    self.name=name\n",
        "    self.price=price\n",
        "    self.quantity=quantity\n",
        "  def total_price(self):\n",
        "    return f\" The total price of {self.name} of quantity {self.quantity} is {self.price*self.quantity}\"\n",
        "obj=Product(\"Apple\",5,6)\n",
        "obj.total_price()"
      ],
      "metadata": {
        "colab": {
          "base_uri": "https://localhost:8080/",
          "height": 36
        },
        "id": "3Jko0D1jqBcn",
        "outputId": "217445d0-b18e-4abe-b830-131c3f3362b7"
      },
      "execution_count": 52,
      "outputs": [
        {
          "output_type": "execute_result",
          "data": {
            "text/plain": [
              "' The total price of Apple of quantity 6 is 30'"
            ],
            "application/vnd.google.colaboratory.intrinsic+json": {
              "type": "string"
            }
          },
          "metadata": {},
          "execution_count": 52
        }
      ]
    },
    {
      "cell_type": "code",
      "source": [
        "#Q16) Create a class Animal with an abstract method sound(). Create two derived classes Cow and Sheep that implement the sound() method.\n",
        "from abc import ABC,abstractmethod\n",
        "class Animal(ABC):\n",
        "  @abstractmethod\n",
        "  def sound(self):\n",
        "    print(\"This is animal sound\")\n",
        "class Cow(Animal):\n",
        "  def sound(self):\n",
        "    print(\"Moo\")\n",
        "class Sheep(Animal):\n",
        "  def sound(self):\n",
        "    print(\"MAAAaaaa\")\n",
        "obj=Sheep()\n",
        "obj.sound()\n",
        "#Animal is an abstract base class with an abstract method sound(), enforcing that all derived classes must implement it."
      ],
      "metadata": {
        "colab": {
          "base_uri": "https://localhost:8080/"
        },
        "id": "BoWPmn-ot3Ti",
        "outputId": "acceca45-bf6f-4754-e675-6046ed80ece8"
      },
      "execution_count": 54,
      "outputs": [
        {
          "output_type": "stream",
          "name": "stdout",
          "text": [
            "MAAAaaaa\n"
          ]
        }
      ]
    },
    {
      "cell_type": "code",
      "source": [
        "#Q17) Create a class Book with attributes title, author, and year_published. Add a method get_book_info() that returns a formatted string with the book's details\n",
        "class Book:\n",
        "  def __init__(self,title,author,year_published):\n",
        "    self.title=title\n",
        "    self.author=author\n",
        "    self.year_published=year_published\n",
        "  def get_book_info(self):\n",
        "    return f\"The book title is {self.title} whose author is {self.author} and it was published in the year {self.year_published}\"\n",
        "obj=Book(\"Archies\",\"Ronald Donald\",1987)\n",
        "obj.get_book_info()"
      ],
      "metadata": {
        "colab": {
          "base_uri": "https://localhost:8080/",
          "height": 36
        },
        "id": "GkGkQa_Iu4D4",
        "outputId": "2534a5fc-e4c7-4b99-c569-28b7142a547b"
      },
      "execution_count": 56,
      "outputs": [
        {
          "output_type": "execute_result",
          "data": {
            "text/plain": [
              "'The book title is Archies whose author is Ronald Donald and it was published in the year 1987'"
            ],
            "application/vnd.google.colaboratory.intrinsic+json": {
              "type": "string"
            }
          },
          "metadata": {},
          "execution_count": 56
        }
      ]
    },
    {
      "cell_type": "code",
      "source": [
        "#Q18) Create a class House with attributes address and price. Create a derived class Mansion that adds an attribute number_of_rooms.\n",
        "class House:\n",
        "  def __init__(self,address,price):\n",
        "    self.address=address\n",
        "    self.price=price\n",
        "    pass\n",
        "class Mansion(House):\n",
        "  def __init__(self,address,price,no_of_rooms):\n",
        "    super().__init__(address,price)\n",
        "    self.no_of_rooms=no_of_rooms\n",
        "  def display(self):\n",
        "    return f\"House has {self.no_of_rooms} rooms\"\n",
        "obj1=Mansion(\"(90/172)\",600000000,45)\n",
        "obj1.display()"
      ],
      "metadata": {
        "colab": {
          "base_uri": "https://localhost:8080/",
          "height": 36
        },
        "id": "3dedIxpNvlAe",
        "outputId": "b70fff29-3f8c-48bc-9436-21755f90d092"
      },
      "execution_count": 59,
      "outputs": [
        {
          "output_type": "execute_result",
          "data": {
            "text/plain": [
              "'House has 45 rooms'"
            ],
            "application/vnd.google.colaboratory.intrinsic+json": {
              "type": "string"
            }
          },
          "metadata": {},
          "execution_count": 59
        }
      ]
    }
  ]
}